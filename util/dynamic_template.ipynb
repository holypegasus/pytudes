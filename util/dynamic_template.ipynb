{
 "cells": [
  {
   "cell_type": "code",
   "execution_count": 151,
   "metadata": {},
   "outputs": [
    {
     "name": "stdout",
     "output_type": "stream",
     "text": [
      "Help on Wrap in module __main__ object:\n",
      "\n",
      "class Wrap(builtins.object)\n",
      " |  Methods defined here:\n",
      " |  \n",
      " |  __call__(self, f)\n",
      " |      Call self as a function.\n",
      " |  \n",
      " |  __repr__(self)\n",
      " |      Return repr(self).\n",
      " |  \n",
      " |  f(*args, **kwargs)\n",
      " |  \n",
      " |  get(self, *args, **kwargs)\n",
      " |  \n",
      " |  post(self)\n",
      " |  \n",
      " |  pre(self)\n",
      " |  \n",
      " |  ----------------------------------------------------------------------\n",
      " |  Data descriptors defined here:\n",
      " |  \n",
      " |  __dict__\n",
      " |      dictionary for instance variables (if defined)\n",
      " |  \n",
      " |  __weakref__\n",
      " |      list of weak references to the object (if defined)\n",
      "\n"
     ]
    }
   ],
   "source": [
    "from functools import wraps\n",
    "\n",
    "\n",
    "class Wrap:\n",
    "  def f(*args,**kwargs): # placeholder identity func\n",
    "    return args,kwargs\n",
    "  def pre(self):  pass\n",
    "  def get(self,*args,**kwargs):\n",
    "    return self.f(*args,**kwargs)\n",
    "  def post(self):  pass\n",
    "  def __call__(self, f):\n",
    "    self.f = f\n",
    "    @wraps(f)\n",
    "    def _a(*args,**kwargs):\n",
    "      self.pre()\n",
    "      res = self.get(*args,**kwargs)\n",
    "      self.post()\n",
    "      return res\n",
    "    return _a\n",
    "  def __repr__(self):\n",
    "    return str(self.__dict__)\n",
    "\n",
    "\n",
    "help(Wrap())"
   ]
  },
  {
   "cell_type": "code",
   "execution_count": 176,
   "metadata": {},
   "outputs": [
    {
     "name": "stderr",
     "output_type": "stream",
     "text": [
      "f took 2.2172927856445312e-05\n",
      "f()\n",
      "f took 0.0008749961853027344\n",
      "f()\n",
      "f took 0.0008819103240966797\n"
     ]
    }
   ],
   "source": [
    "import time\n",
    "\n",
    "from utils.base import log\n",
    "logf=log.warning\n",
    "\n",
    "\n",
    "# def timit decorator\n",
    "def timit(*args,**kwargs):\n",
    "  self = Wrap()\n",
    "  def t0(): # sidestep lambda's no-assign constraint\n",
    "    self.t0 = time.time()\n",
    "  self.pre = t0\n",
    "  self.post = lambda:logf('%s took %s', f.__name__, time.time()-self.t0)\n",
    "  return self\n",
    "\n",
    "\n",
    "# test unit\n",
    "_timit = timit()\n",
    "_timit.pre()\n",
    "_timit.post()\n",
    "_timit\n",
    "\n",
    "# test inter\n",
    "def f():  logf('f()')\n",
    "# func\n",
    "timit()(f)()\n",
    "# deco\n",
    "@timit()\n",
    "def f():  logf('f()')\n",
    "f()"
   ]
  },
  {
   "cell_type": "code",
   "execution_count": 177,
   "metadata": {},
   "outputs": [
    {
     "name": "stderr",
     "output_type": "stream",
     "text": [
      "+ 2\n",
      "+ 1\n",
      "+ 0\n",
      "> 1\n",
      "> 0\n",
      "\n",
      "+ 2\n",
      "+ 1\n",
      "+ 0\n",
      "> 1\n",
      "> 0\n"
     ]
    },
    {
     "data": {
      "text/plain": [
       "[2, 1, 0, 1, 0]"
      ]
     },
     "execution_count": 177,
     "metadata": {},
     "output_type": "execute_result"
    }
   ],
   "source": [
    "from collections import OrderedDict\n",
    "\n",
    "\n",
    "def memo(f_k=lambda obj:obj, dict_type=OrderedDict):\n",
    "  self = Wrap()\n",
    "  self.seen = dict_type()\n",
    "  def get(*args,**kwargs):\n",
    "    key = f_k(*args,**kwargs)\n",
    "    if key in self.seen:\n",
    "      logf('> %s', key)\n",
    "    else:\n",
    "      val = self.f(*args,**kwargs)\n",
    "      logf('+ %s', key)\n",
    "      self.seen[key] = val\n",
    "    return self.seen[key]\n",
    "  self.get = get\n",
    "  return self\n",
    "\n",
    "\n",
    "# test unit\n",
    "_memo = memo()\n",
    "_memo\n",
    "\n",
    "# test inter\n",
    "import random\n",
    "xs = random.choices(range(3),k=5)\n",
    "mapl = lambda f,itr:list(map(f,itr))\n",
    "# func\n",
    "def echo(x): return x\n",
    "mapl(memo()(echo), xs)\n",
    "logf('')\n",
    "# deco\n",
    "@memo()\n",
    "def echo(x): return x\n",
    "mapl(echo, xs)"
   ]
  },
  {
   "cell_type": "code",
   "execution_count": null,
   "metadata": {},
   "outputs": [],
   "source": []
  }
 ],
 "metadata": {
  "kernelspec": {
   "display_name": "Python 3",
   "language": "python",
   "name": "python3"
  },
  "language_info": {
   "codemirror_mode": {
    "name": "ipython",
    "version": 3
   },
   "file_extension": ".py",
   "mimetype": "text/x-python",
   "name": "python",
   "nbconvert_exporter": "python",
   "pygments_lexer": "ipython3",
   "version": "3.7.4"
  }
 },
 "nbformat": 4,
 "nbformat_minor": 2
}
